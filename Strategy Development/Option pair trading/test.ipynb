{
 "cells": [
  {
   "cell_type": "code",
   "execution_count": 1,
   "id": "f6ffaef4",
   "metadata": {},
   "outputs": [],
   "source": [
    "import numpy as np\n",
    "import pandas as pd\n",
    "import seaborn as sns\n",
    "import matplotlib.pyplot as plt\n",
    "import time\n",
    "from scipy.stats import norm,kstest,shapiro,t\n",
    "import warnings\n",
    "import seaborn as sns\n",
    "import statistics\n",
    "warnings.filterwarnings('ignore')\n",
    "import yfinance as yf\n",
    "from synchronous_functions import *"
   ]
  },
  {
   "cell_type": "code",
   "execution_count": null,
   "id": "1dd1483b",
   "metadata": {},
   "outputs": [],
   "source": []
  },
  {
   "cell_type": "code",
   "execution_count": null,
   "id": "874c8d22",
   "metadata": {},
   "outputs": [],
   "source": []
  },
  {
   "cell_type": "code",
   "execution_count": 19,
   "id": "76ba8cde",
   "metadata": {},
   "outputs": [
    {
     "data": {
      "text/html": [
       "<div>\n",
       "<style scoped>\n",
       "    .dataframe tbody tr th:only-of-type {\n",
       "        vertical-align: middle;\n",
       "    }\n",
       "\n",
       "    .dataframe tbody tr th {\n",
       "        vertical-align: top;\n",
       "    }\n",
       "\n",
       "    .dataframe thead th {\n",
       "        text-align: right;\n",
       "    }\n",
       "</style>\n",
       "<table border=\"1\" class=\"dataframe\">\n",
       "  <thead>\n",
       "    <tr style=\"text-align: right;\">\n",
       "      <th></th>\n",
       "      <th>Open</th>\n",
       "      <th>High</th>\n",
       "      <th>Low</th>\n",
       "      <th>Close</th>\n",
       "      <th>Adj Close</th>\n",
       "      <th>Volume</th>\n",
       "    </tr>\n",
       "    <tr>\n",
       "      <th>Date</th>\n",
       "      <th></th>\n",
       "      <th></th>\n",
       "      <th></th>\n",
       "      <th></th>\n",
       "      <th></th>\n",
       "      <th></th>\n",
       "    </tr>\n",
       "  </thead>\n",
       "  <tbody>\n",
       "    <tr>\n",
       "      <th>2022-02-02</th>\n",
       "      <td>10.15</td>\n",
       "      <td>10.54</td>\n",
       "      <td>10.05</td>\n",
       "      <td>10.54</td>\n",
       "      <td>10.54</td>\n",
       "      <td>6</td>\n",
       "    </tr>\n",
       "    <tr>\n",
       "      <th>2022-02-03</th>\n",
       "      <td>10.05</td>\n",
       "      <td>10.05</td>\n",
       "      <td>10.05</td>\n",
       "      <td>10.05</td>\n",
       "      <td>10.05</td>\n",
       "      <td>0</td>\n",
       "    </tr>\n",
       "    <tr>\n",
       "      <th>2022-02-04</th>\n",
       "      <td>8.40</td>\n",
       "      <td>8.40</td>\n",
       "      <td>8.40</td>\n",
       "      <td>8.40</td>\n",
       "      <td>8.40</td>\n",
       "      <td>1</td>\n",
       "    </tr>\n",
       "    <tr>\n",
       "      <th>2022-02-07</th>\n",
       "      <td>10.55</td>\n",
       "      <td>10.55</td>\n",
       "      <td>9.90</td>\n",
       "      <td>9.90</td>\n",
       "      <td>9.90</td>\n",
       "      <td>6</td>\n",
       "    </tr>\n",
       "    <tr>\n",
       "      <th>2022-02-10</th>\n",
       "      <td>12.30</td>\n",
       "      <td>13.30</td>\n",
       "      <td>11.32</td>\n",
       "      <td>11.32</td>\n",
       "      <td>11.32</td>\n",
       "      <td>15</td>\n",
       "    </tr>\n",
       "    <tr>\n",
       "      <th>2022-02-11</th>\n",
       "      <td>9.08</td>\n",
       "      <td>9.08</td>\n",
       "      <td>9.08</td>\n",
       "      <td>9.08</td>\n",
       "      <td>9.08</td>\n",
       "      <td>5</td>\n",
       "    </tr>\n",
       "  </tbody>\n",
       "</table>\n",
       "</div>"
      ],
      "text/plain": [
       "             Open   High    Low  Close  Adj Close  Volume\n",
       "Date                                                     \n",
       "2022-02-02  10.15  10.54  10.05  10.54      10.54       6\n",
       "2022-02-03  10.05  10.05  10.05  10.05      10.05       0\n",
       "2022-02-04   8.40   8.40   8.40   8.40       8.40       1\n",
       "2022-02-07  10.55  10.55   9.90   9.90       9.90       6\n",
       "2022-02-10  12.30  13.30  11.32  11.32      11.32      15\n",
       "2022-02-11   9.08   9.08   9.08   9.08       9.08       5"
      ]
     },
     "execution_count": 19,
     "metadata": {},
     "output_type": "execute_result"
    }
   ],
   "source": [
    "intc_df = yf.download(['TSM220304C00115000'], \n",
    "                      start='2022-01-05', \n",
    "                      end='2022-02-11', \n",
    "                      progress=False,\n",
    ")\n",
    "intc_df"
   ]
  },
  {
   "cell_type": "code",
   "execution_count": 20,
   "id": "b5e77a01",
   "metadata": {},
   "outputs": [
    {
     "data": {
      "text/plain": [
       "Date\n",
       "2022-02-02    10.54\n",
       "2022-02-03    10.05\n",
       "2022-02-04     8.40\n",
       "2022-02-07     9.90\n",
       "2022-02-10    11.32\n",
       "2022-02-11     9.08\n",
       "Name: Adj Close, dtype: float64"
      ]
     },
     "execution_count": 20,
     "metadata": {},
     "output_type": "execute_result"
    }
   ],
   "source": [
    "intc_df['Adj Close']"
   ]
  },
  {
   "cell_type": "code",
   "execution_count": 55,
   "id": "2edb6fdc",
   "metadata": {},
   "outputs": [],
   "source": [
    "us_stock = pd.read_csv(\"nasdaq_screener.csv\")\n",
    "us_stock.dropna(subset = [\"Sector\"],inplace=True)\n",
    "us_stock = us_stock[['Symbol','Name','Sector','Industry']]\n",
    "stock_symbol = list(us_stock['Symbol'])\n"
   ]
  },
  {
   "cell_type": "code",
   "execution_count": 60,
   "id": "7cee4bd0",
   "metadata": {},
   "outputs": [
    {
     "name": "stdout",
     "output_type": "stream",
     "text": [
      "Basic Industries\n",
      "Capital Goods\n",
      "Consumer Durables\n",
      "Consumer Non-Durables\n",
      "Consumer Services\n",
      "Energy\n",
      "Finance\n",
      "Health Care\n",
      "Miscellaneous\n",
      "Public Utilities\n",
      "Technology\n",
      "Transportation\n"
     ]
    }
   ],
   "source": [
    "for sector, sector_data in us_stock.groupby('Sector'):\n",
    "    print(sector)"
   ]
  },
  {
   "cell_type": "code",
   "execution_count": 66,
   "id": "21492c7f",
   "metadata": {},
   "outputs": [
    {
     "data": {
      "text/plain": [
       "11        AAL\n",
       "24       AAWW\n",
       "39       ABNB\n",
       "312      AIRT\n",
       "313     AIRTP\n",
       "        ...  \n",
       "8354      XPO\n",
       "8371     YELL\n",
       "8414      ZIM\n",
       "8431      ZNH\n",
       "8442      ZTO\n",
       "Name: Symbol, Length: 121, dtype: object"
      ]
     },
     "execution_count": 66,
     "metadata": {},
     "output_type": "execute_result"
    }
   ],
   "source": [
    "test = sector_data['Symbol']\n",
    "test"
   ]
  },
  {
   "cell_type": "code",
   "execution_count": 91,
   "id": "e8218b90",
   "metadata": {},
   "outputs": [
    {
     "name": "stdout",
     "output_type": "stream",
     "text": [
      "[*********************100%***********************]  1 of 1 completed\n",
      "\n",
      "1 Failed download:\n",
      "- AAPL: 1h data not available for startTime=1262667600 and endTime=1645932371. The requested range must be within the last 730 days.\n"
     ]
    }
   ],
   "source": [
    "intc_df = yf.download('AAPL', \n",
    "                      start='2010-01-05',\n",
    "                      interval = '60m'\n",
    ")"
   ]
  },
  {
   "cell_type": "code",
   "execution_count": null,
   "id": "2b1cb3a4",
   "metadata": {},
   "outputs": [],
   "source": [
    "# Create a contract object\n",
    "from ibapi.contract import Contract\n",
    "\n",
    "contract = Contract()\n",
    "contract.symbol = 'TSM220304C00115000'\n",
    "contract.secType  = 'OPT'\n",
    "contract.exchange = 'SMART'\n",
    "contract.currency = 'USD'\n",
    "\n",
    "# Get your historical data\n",
    "historical_data = fetch_historical_data(contract=contract,\n",
    "                                        endDateTime='',\n",
    "                                        durationStr='30 D',\n",
    "                                        barSizeSetting='1 hour',\n",
    "                                        whatToShow='MIDPOINT',\n",
    "                                        useRTH=True)\n",
    "\n",
    "\n",
    "# Print it! This should be a dataframe that's ready to go.\n",
    "print(historical_data)"
   ]
  },
  {
   "cell_type": "code",
   "execution_count": null,
   "id": "f73b60e2",
   "metadata": {},
   "outputs": [],
   "source": [
    "historical_data"
   ]
  },
  {
   "cell_type": "code",
   "execution_count": 101,
   "id": "9d2421e7",
   "metadata": {},
   "outputs": [],
   "source": []
  },
  {
   "cell_type": "code",
   "execution_count": 96,
   "id": "44038352",
   "metadata": {},
   "outputs": [
    {
     "name": "stdout",
     "output_type": "stream",
     "text": [
      "\u001b[31mERROR: Could not find a version that satisfies the requirement threading\u001b[0m\n",
      "\u001b[31mERROR: No matching distribution found for threading\u001b[0m\n"
     ]
    }
   ],
   "source": []
  },
  {
   "cell_type": "code",
   "execution_count": null,
   "id": "621fd1c1",
   "metadata": {},
   "outputs": [],
   "source": []
  }
 ],
 "metadata": {
  "kernelspec": {
   "display_name": "Python 3",
   "language": "python",
   "name": "python3"
  },
  "language_info": {
   "codemirror_mode": {
    "name": "ipython",
    "version": 3
   },
   "file_extension": ".py",
   "mimetype": "text/x-python",
   "name": "python",
   "nbconvert_exporter": "python",
   "pygments_lexer": "ipython3",
   "version": "3.8.8"
  }
 },
 "nbformat": 4,
 "nbformat_minor": 5
}
